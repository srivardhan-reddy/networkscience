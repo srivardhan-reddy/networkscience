{
 "cells": [
  {
   "cell_type": "code",
   "execution_count": 4,
   "id": "80a76f2e",
   "metadata": {},
   "outputs": [],
   "source": [
    "import json\n",
    "import pickle\n",
    "import pandas as pd\n",
    "import networkx as nx\n",
    "from networkx.algorithms import bipartite\n",
    "import timeit\n",
    "#import numpy as np\n",
    "import pymetis\n",
    "import networkx.algorithms.community as nx_comm"
   ]
  },
  {
   "cell_type": "code",
   "execution_count": 22,
   "id": "f10922a4",
   "metadata": {},
   "outputs": [],
   "source": [
    "G_trust_verified = nx.read_gpickle(\"G_trust_verified.gpickle\")\n",
    "G_trust = nx.read_gpickle(\"G_trust.gpickle\")\n",
    "UG_trust_verified = nx.read_gpickle(\"UG_trust_verified.gpickle\")\n",
    "UG_trust = nx.read_gpickle(\"UG_trust.gpickle\")"
   ]
  },
  {
   "cell_type": "code",
   "execution_count": 11,
   "id": "df5ad1ec",
   "metadata": {},
   "outputs": [
    {
     "name": "stdout",
     "output_type": "stream",
     "text": [
      "0.11010309741670302\n"
     ]
    }
   ],
   "source": [
    "# run community detection on undirected graph\n",
    "louvain_communities = nx_comm.louvain_communities(UG_trust)\n",
    "print(nx_comm.modularity(UG_trust, louvain_communities))\n"
   ]
  },
  {
   "cell_type": "code",
   "execution_count": 21,
   "id": "4c047820",
   "metadata": {},
   "outputs": [
    {
     "name": "stdout",
     "output_type": "stream",
     "text": [
      "0.07019058270556594\n"
     ]
    }
   ],
   "source": [
    "# run community detection on undirected graph\n",
    "louvain_communities = nx_comm.louvain_communities(UG_trust_verified)\n",
    "print(nx_comm.modularity(UG_trust_verified, louvain_communities))"
   ]
  },
  {
   "cell_type": "code",
   "execution_count": 23,
   "id": "e982a5ee",
   "metadata": {},
   "outputs": [
    {
     "name": "stdout",
     "output_type": "stream",
     "text": [
      "0.055747682191740436\n"
     ]
    }
   ],
   "source": [
    "# run community detection on undirected graph\n",
    "louvain_communities = nx_comm.louvain_communities(G_trust)\n",
    "print(nx_comm.modularity(G_trust, louvain_communities))\n"
   ]
  },
  {
   "cell_type": "code",
   "execution_count": 24,
   "id": "00812ba5",
   "metadata": {},
   "outputs": [
    {
     "name": "stdout",
     "output_type": "stream",
     "text": [
      "0.05575442305747291\n"
     ]
    }
   ],
   "source": [
    "# run community detection on undirected graph\n",
    "louvain_communities = nx_comm.louvain_communities(G_trust_verified)\n",
    "print(nx_comm.modularity(G_trust_verified, louvain_communities))"
   ]
  },
  {
   "cell_type": "code",
   "execution_count": null,
   "id": "4afb58f1",
   "metadata": {},
   "outputs": [],
   "source": []
  }
 ],
 "metadata": {
  "kernelspec": {
   "display_name": "Python 3 (ipykernel)",
   "language": "python",
   "name": "python3"
  },
  "language_info": {
   "codemirror_mode": {
    "name": "ipython",
    "version": 3
   },
   "file_extension": ".py",
   "mimetype": "text/x-python",
   "name": "python",
   "nbconvert_exporter": "python",
   "pygments_lexer": "ipython3",
   "version": "3.9.11"
  }
 },
 "nbformat": 4,
 "nbformat_minor": 5
}
