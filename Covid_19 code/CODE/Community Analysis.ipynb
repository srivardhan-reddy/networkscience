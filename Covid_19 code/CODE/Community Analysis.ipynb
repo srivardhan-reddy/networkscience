{
 "cells": [
  {
   "cell_type": "code",
   "execution_count": 40,
   "id": "2ac3e2dd",
   "metadata": {},
   "outputs": [],
   "source": [
    "import json\n",
    "import pickle\n",
    "import pandas as pd\n",
    "import networkx as nx\n",
    "from networkx.algorithms import bipartite\n",
    "import timeit\n",
    "#import numpy as np\n",
    "import pymetis"
   ]
  },
  {
   "cell_type": "code",
   "execution_count": 51,
   "id": "02cd23fc",
   "metadata": {},
   "outputs": [],
   "source": [
    "G = nx.read_gpickle(\"743/DIGRAPH_743_10k_low_deg_removed.gpickle\")"
   ]
  },
  {
   "cell_type": "code",
   "execution_count": 52,
   "id": "77d04a7a",
   "metadata": {},
   "outputs": [
    {
     "data": {
      "text/plain": [
       "3201"
      ]
     },
     "execution_count": 52,
     "metadata": {},
     "output_type": "execute_result"
    }
   ],
   "source": [
    "len(G.nodes())"
   ]
  },
  {
   "cell_type": "code",
   "execution_count": 53,
   "id": "826f932b",
   "metadata": {},
   "outputs": [
    {
     "data": {
      "text/plain": [
       "3682"
      ]
     },
     "execution_count": 53,
     "metadata": {},
     "output_type": "execute_result"
    }
   ],
   "source": [
    "len(G.edges())"
   ]
  },
  {
   "cell_type": "code",
   "execution_count": 54,
   "id": "8076532b",
   "metadata": {},
   "outputs": [],
   "source": [
    "G1 = nx.read_adjlist(\"unweighted_adjacency_matrix.adjlist\")"
   ]
  },
  {
   "cell_type": "code",
   "execution_count": 21,
   "id": "aede790a",
   "metadata": {},
   "outputs": [],
   "source": [
    "ad_matrix = nx.to_numpy_matrix(G1)"
   ]
  },
  {
   "cell_type": "code",
   "execution_count": 27,
   "id": "7e929a1a",
   "metadata": {},
   "outputs": [],
   "source": [
    "ad_list = nx.write_adjlist(G1, \"unweighted_adjacency_list.adjlist\")"
   ]
  },
  {
   "cell_type": "code",
   "execution_count": 26,
   "id": "715b3902",
   "metadata": {},
   "outputs": [
    {
     "data": {
      "text/plain": [
       "4644"
      ]
     },
     "execution_count": 26,
     "metadata": {},
     "output_type": "execute_result"
    }
   ],
   "source": [
    "len(ad_matrix)"
   ]
  },
  {
   "cell_type": "code",
   "execution_count": 30,
   "id": "c2fc9831",
   "metadata": {},
   "outputs": [
    {
     "data": {
      "text/plain": [
       "4644"
      ]
     },
     "execution_count": 30,
     "metadata": {},
     "output_type": "execute_result"
    }
   ],
   "source": [
    "len(G1.nodes())"
   ]
  },
  {
   "cell_type": "code",
   "execution_count": 31,
   "id": "9e4e0706",
   "metadata": {},
   "outputs": [
    {
     "data": {
      "text/plain": [
       "380347"
      ]
     },
     "execution_count": 31,
     "metadata": {},
     "output_type": "execute_result"
    }
   ],
   "source": [
    "len(G1.edges())"
   ]
  },
  {
   "cell_type": "code",
   "execution_count": 28,
   "id": "42a22ecb",
   "metadata": {},
   "outputs": [
    {
     "ename": "AssertionError",
     "evalue": "",
     "output_type": "error",
     "traceback": [
      "\u001b[0;31m---------------------------------------------------------------------------\u001b[0m",
      "\u001b[0;31mAssertionError\u001b[0m                            Traceback (most recent call last)",
      "Input \u001b[0;32mIn [28]\u001b[0m, in \u001b[0;36m<cell line: 1>\u001b[0;34m()\u001b[0m\n\u001b[0;32m----> 1\u001b[0m n_cuts, membership \u001b[38;5;241m=\u001b[39m \u001b[43mpymetis\u001b[49m\u001b[38;5;241;43m.\u001b[39;49m\u001b[43mpart_graph\u001b[49m\u001b[43m(\u001b[49m\u001b[38;5;241;43m2\u001b[39;49m\u001b[43m,\u001b[49m\u001b[43m \u001b[49m\u001b[43madjacency\u001b[49m\u001b[38;5;241;43m=\u001b[39;49m\u001b[43mad_list\u001b[49m\u001b[43m)\u001b[49m\n",
      "File \u001b[0;32m~/opt/anaconda3/lib/python3.9/site-packages/pymetis/__init__.py:105\u001b[0m, in \u001b[0;36mpart_graph\u001b[0;34m(nparts, adjacency, xadj, adjncy, vweights, eweights, recursive)\u001b[0m\n\u001b[1;32m     70\u001b[0m \u001b[38;5;28;01mdef\u001b[39;00m \u001b[38;5;21mpart_graph\u001b[39m(nparts, adjacency\u001b[38;5;241m=\u001b[39m\u001b[38;5;28;01mNone\u001b[39;00m, xadj\u001b[38;5;241m=\u001b[39m\u001b[38;5;28;01mNone\u001b[39;00m, adjncy\u001b[38;5;241m=\u001b[39m\u001b[38;5;28;01mNone\u001b[39;00m,\n\u001b[1;32m     71\u001b[0m         vweights\u001b[38;5;241m=\u001b[39m\u001b[38;5;28;01mNone\u001b[39;00m, eweights\u001b[38;5;241m=\u001b[39m\u001b[38;5;28;01mNone\u001b[39;00m, recursive\u001b[38;5;241m=\u001b[39m\u001b[38;5;28;01mNone\u001b[39;00m):\n\u001b[1;32m     72\u001b[0m     \u001b[38;5;124;03m\"\"\"Return a partition (cutcount, part_vert) into nparts for an input graph.\u001b[39;00m\n\u001b[1;32m     73\u001b[0m \n\u001b[1;32m     74\u001b[0m \u001b[38;5;124;03m    The input graph is given in either a Pythonic way as the `adjacency' parameter\u001b[39;00m\n\u001b[0;32m   (...)\u001b[0m\n\u001b[1;32m    103\u001b[0m \u001b[38;5;124;03m    (quoted with slight adaptations from the Metis docs)\u001b[39;00m\n\u001b[1;32m    104\u001b[0m \u001b[38;5;124;03m    \"\"\"\u001b[39;00m\n\u001b[0;32m--> 105\u001b[0m     xadj, adjncy \u001b[38;5;241m=\u001b[39m \u001b[43m_prepare_graph\u001b[49m\u001b[43m(\u001b[49m\u001b[43madjacency\u001b[49m\u001b[43m,\u001b[49m\u001b[43m \u001b[49m\u001b[43mxadj\u001b[49m\u001b[43m,\u001b[49m\u001b[43m \u001b[49m\u001b[43madjncy\u001b[49m\u001b[43m)\u001b[49m\n\u001b[1;32m    107\u001b[0m     \u001b[38;5;28;01mif\u001b[39;00m recursive \u001b[38;5;129;01mis\u001b[39;00m \u001b[38;5;28;01mNone\u001b[39;00m:\n\u001b[1;32m    108\u001b[0m         \u001b[38;5;28;01mif\u001b[39;00m nparts \u001b[38;5;241m>\u001b[39m \u001b[38;5;241m8\u001b[39m:\n",
      "File \u001b[0;32m~/opt/anaconda3/lib/python3.9/site-packages/pymetis/__init__.py:50\u001b[0m, in \u001b[0;36m_prepare_graph\u001b[0;34m(adjacency, xadj, adjncy)\u001b[0m\n\u001b[1;32m     48\u001b[0m         xadj\u001b[38;5;241m.\u001b[39mappend(\u001b[38;5;28mlen\u001b[39m(adjncy))\n\u001b[1;32m     49\u001b[0m \u001b[38;5;28;01melse\u001b[39;00m:\n\u001b[0;32m---> 50\u001b[0m     \u001b[38;5;28;01massert\u001b[39;00m xadj \u001b[38;5;129;01mis\u001b[39;00m \u001b[38;5;129;01mnot\u001b[39;00m \u001b[38;5;28;01mNone\u001b[39;00m\n\u001b[1;32m     51\u001b[0m     \u001b[38;5;28;01massert\u001b[39;00m adjncy \u001b[38;5;129;01mis\u001b[39;00m \u001b[38;5;129;01mnot\u001b[39;00m \u001b[38;5;28;01mNone\u001b[39;00m\n\u001b[1;32m     53\u001b[0m \u001b[38;5;28;01mreturn\u001b[39;00m xadj, adjncy\n",
      "\u001b[0;31mAssertionError\u001b[0m: "
     ]
    }
   ],
   "source": [
    "n_cuts, membership = pymetis.part_graph(2, adjacency=ad_list)"
   ]
  },
  {
   "cell_type": "code",
   "execution_count": 33,
   "id": "24584406",
   "metadata": {},
   "outputs": [],
   "source": [
    "#TODO: write node names\n",
    "import networkx as nx\n",
    "\n",
    "def write_snap_format(G, title):\n",
    "    edge_file_name = \"data/\" + title + \".edges\"\n",
    "    if nx.is_directed(G):\n",
    "        nx.write_edgelist(G, edge_file_name, delimiter='\\t', data=False)\n",
    "    else:\n",
    "        f = open(edge_file_name, 'w')\n",
    "        for u, v in G.edges():\n",
    "            f.write('%d\\t%d\\n' % (u, v))\n",
    "            f.write('%d\\t%d\\n' % (v, u))\n",
    "        f.close()\n",
    "    print ('edgelist written.')\n",
    "\n",
    "    B = G.graph['attrib']\n",
    "    N, L = B.shape\n",
    "    f = open(\"data/\" + title + \".nodefeat\", \"w\")\n",
    "    for i in range(N):\n",
    "        for j in range(L):\n",
    "            if B[i, j] == 1:\n",
    "                f.write(\"%d\\t%d\\n\" % (i, j))\n",
    "    print ('attrib matrix written.')\n",
    "    f.close()\n",
    "\n",
    "    # create empty .nodefeatnames file\n",
    "    open('data/' + title + '.nodefeatnames', 'a').close()"
   ]
  },
  {
   "cell_type": "code",
   "execution_count": 34,
   "id": "a1b27eb1",
   "metadata": {},
   "outputs": [
    {
     "ename": "FileNotFoundError",
     "evalue": "[Errno 2] No such file or directory: 'data/unweighted_snap.edges'",
     "output_type": "error",
     "traceback": [
      "\u001b[0;31m---------------------------------------------------------------------------\u001b[0m",
      "\u001b[0;31mFileNotFoundError\u001b[0m                         Traceback (most recent call last)",
      "Input \u001b[0;32mIn [34]\u001b[0m, in \u001b[0;36m<cell line: 1>\u001b[0;34m()\u001b[0m\n\u001b[0;32m----> 1\u001b[0m \u001b[43mwrite_snap_format\u001b[49m\u001b[43m(\u001b[49m\u001b[43mG1\u001b[49m\u001b[43m,\u001b[49m\u001b[43m \u001b[49m\u001b[38;5;124;43m\"\u001b[39;49m\u001b[38;5;124;43munweighted_snap\u001b[39;49m\u001b[38;5;124;43m\"\u001b[39;49m\u001b[43m)\u001b[49m\n",
      "Input \u001b[0;32mIn [33]\u001b[0m, in \u001b[0;36mwrite_snap_format\u001b[0;34m(G, title)\u001b[0m\n\u001b[1;32m      7\u001b[0m     nx\u001b[38;5;241m.\u001b[39mwrite_edgelist(G, edge_file_name, delimiter\u001b[38;5;241m=\u001b[39m\u001b[38;5;124m'\u001b[39m\u001b[38;5;130;01m\\t\u001b[39;00m\u001b[38;5;124m'\u001b[39m, data\u001b[38;5;241m=\u001b[39m\u001b[38;5;28;01mFalse\u001b[39;00m)\n\u001b[1;32m      8\u001b[0m \u001b[38;5;28;01melse\u001b[39;00m:\n\u001b[0;32m----> 9\u001b[0m     f \u001b[38;5;241m=\u001b[39m \u001b[38;5;28;43mopen\u001b[39;49m\u001b[43m(\u001b[49m\u001b[43medge_file_name\u001b[49m\u001b[43m,\u001b[49m\u001b[43m \u001b[49m\u001b[38;5;124;43m'\u001b[39;49m\u001b[38;5;124;43mw\u001b[39;49m\u001b[38;5;124;43m'\u001b[39;49m\u001b[43m)\u001b[49m\n\u001b[1;32m     10\u001b[0m     \u001b[38;5;28;01mfor\u001b[39;00m u, v \u001b[38;5;129;01min\u001b[39;00m G\u001b[38;5;241m.\u001b[39medges():\n\u001b[1;32m     11\u001b[0m         f\u001b[38;5;241m.\u001b[39mwrite(\u001b[38;5;124m'\u001b[39m\u001b[38;5;132;01m%d\u001b[39;00m\u001b[38;5;130;01m\\t\u001b[39;00m\u001b[38;5;132;01m%d\u001b[39;00m\u001b[38;5;130;01m\\n\u001b[39;00m\u001b[38;5;124m'\u001b[39m \u001b[38;5;241m%\u001b[39m (u, v))\n",
      "\u001b[0;31mFileNotFoundError\u001b[0m: [Errno 2] No such file or directory: 'data/unweighted_snap.edges'"
     ]
    }
   ],
   "source": [
    "write_snap_format(G1, \"unweighted_snap\")"
   ]
  },
  {
   "cell_type": "code",
   "execution_count": 32,
   "id": "a7da5dd7",
   "metadata": {},
   "outputs": [
    {
     "ename": "ModuleNotFoundError",
     "evalue": "No module named 'snap'",
     "output_type": "error",
     "traceback": [
      "\u001b[0;31m---------------------------------------------------------------------------\u001b[0m",
      "\u001b[0;31mModuleNotFoundError\u001b[0m                       Traceback (most recent call last)",
      "Input \u001b[0;32mIn [32]\u001b[0m, in \u001b[0;36m<cell line: 1>\u001b[0;34m()\u001b[0m\n\u001b[0;32m----> 1\u001b[0m \u001b[38;5;28;01mimport\u001b[39;00m \u001b[38;5;21;01msnap\u001b[39;00m\n",
      "\u001b[0;31mModuleNotFoundError\u001b[0m: No module named 'snap'"
     ]
    }
   ],
   "source": [
    "import snap"
   ]
  },
  {
   "cell_type": "code",
   "execution_count": 2,
   "id": "2d1e8364",
   "metadata": {},
   "outputs": [],
   "source": [
    "import networkx as nx\n",
    "import networkx.algorithms.community as nx_comm\n",
    "import networkx.algorithms.community as nx_comm"
   ]
  },
  {
   "cell_type": "code",
   "execution_count": 3,
   "id": "4cb44b70",
   "metadata": {},
   "outputs": [
    {
     "ename": "NameError",
     "evalue": "name 'G1' is not defined",
     "output_type": "error",
     "traceback": [
      "\u001b[0;31m---------------------------------------------------------------------------\u001b[0m",
      "\u001b[0;31mNameError\u001b[0m                                 Traceback (most recent call last)",
      "Input \u001b[0;32mIn [3]\u001b[0m, in \u001b[0;36m<cell line: 1>\u001b[0;34m()\u001b[0m\n\u001b[0;32m----> 1\u001b[0m louvain_communities \u001b[38;5;241m=\u001b[39m nx_comm\u001b[38;5;241m.\u001b[39mlouvain_communities(\u001b[43mG1\u001b[49m)\n",
      "\u001b[0;31mNameError\u001b[0m: name 'G1' is not defined"
     ]
    }
   ],
   "source": [
    "louvain_communities = nx_comm.louvain_communities(G1)"
   ]
  },
  {
   "cell_type": "code",
   "execution_count": 59,
   "id": "69770051",
   "metadata": {},
   "outputs": [],
   "source": [
    "girvan_newman = nx_comm.girvan_newman(G1)"
   ]
  },
  {
   "cell_type": "code",
   "execution_count": 60,
   "id": "768a5ff6",
   "metadata": {},
   "outputs": [
    {
     "data": {
      "text/plain": [
       "0.00026977415634522883"
      ]
     },
     "execution_count": 60,
     "metadata": {},
     "output_type": "execute_result"
    }
   ],
   "source": [
    "nx_comm.modularity(G1, louvain_communities)"
   ]
  },
  {
   "cell_type": "code",
   "execution_count": null,
   "id": "6f7dd62b",
   "metadata": {},
   "outputs": [],
   "source": [
    "nx_comm.modularity(G1, girvan_newman)"
   ]
  },
  {
   "cell_type": "code",
   "execution_count": 49,
   "id": "80deae7f",
   "metadata": {},
   "outputs": [
    {
     "data": {
      "text/plain": [
       "{'#2019ncov'}"
      ]
     },
     "execution_count": 49,
     "metadata": {},
     "output_type": "execute_result"
    }
   ],
   "source": [
    "louvain_communities[1]"
   ]
  },
  {
   "cell_type": "code",
   "execution_count": null,
   "id": "c81b003b",
   "metadata": {},
   "outputs": [],
   "source": []
  }
 ],
 "metadata": {
  "kernelspec": {
   "display_name": "Python 3 (ipykernel)",
   "language": "python",
   "name": "python3"
  },
  "language_info": {
   "codemirror_mode": {
    "name": "ipython",
    "version": 3
   },
   "file_extension": ".py",
   "mimetype": "text/x-python",
   "name": "python",
   "nbconvert_exporter": "python",
   "pygments_lexer": "ipython3",
   "version": "3.9.11"
  }
 },
 "nbformat": 4,
 "nbformat_minor": 5
}
